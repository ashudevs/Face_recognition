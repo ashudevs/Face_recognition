{
 "cells": [
  {
   "cell_type": "code",
   "execution_count": 37,
   "id": "ffe99c4d",
   "metadata": {},
   "outputs": [],
   "source": [
    "import face_recognition\n",
    "import cv2\n",
    "import numpy as np\n",
    "import csv\n",
    "import os\n",
    "from datetime import datetime"
   ]
  },
  {
   "cell_type": "code",
   "execution_count": 38,
   "id": "6334f875",
   "metadata": {},
   "outputs": [],
   "source": [
    "video_capture = cv2.VideoCapture(0)"
   ]
  },
  {
   "cell_type": "code",
   "execution_count": 39,
   "id": "d4402ac4",
   "metadata": {},
   "outputs": [],
   "source": [
    "amit_shah_image = face_recognition.load_image_file(r\"photos/amitshah.jpg\")\n",
    "amit_shah_encoding = face_recognition.face_encodings(amit_shah_image)[0]"
   ]
  },
  {
   "cell_type": "code",
   "execution_count": 40,
   "id": "e9d86dcf",
   "metadata": {},
   "outputs": [],
   "source": [
    "bill_gates_image = face_recognition.load_image_file(r\"photos/billgates.jpg\")\n",
    "bill_gates_encoding = face_recognition.face_encodings(bill_gates_image)[0]"
   ]
  },
  {
   "cell_type": "code",
   "execution_count": 41,
   "id": "f4c1bdfc",
   "metadata": {},
   "outputs": [],
   "source": [
    "elon_musk_image = face_recognition.load_image_file(r\"photos/elonmusk.jpg\")\n",
    "elon_musk_encoding = face_recognition.face_encodings(elon_musk_image)[0]"
   ]
  },
  {
   "cell_type": "code",
   "execution_count": 42,
   "id": "4e144529",
   "metadata": {},
   "outputs": [],
   "source": [
    "narendra_modi_image = face_recognition.load_image_file(r\"photos/narendramodi.jpeg\")\n",
    "narendra_modi_encoding = face_recognition.face_encodings(narendra_modi_image)[0]\n",
    "\n",
    "ashutosh_image = face_recognition.load_image_file(r\"photos/ashutosh.jpg\")\n",
    "ashutosh_encoding = face_recognition.face_encodings(ashutosh_image)[0]\n",
    "\n",
    "rishabh_image = face_recognition.load_image_file(r\"photos/rishabh.jpg\")\n",
    "rishabh_encoding = face_recognition.face_encodings(rishabh_image)[0]\n",
    "\n",
    "om_image = face_recognition.load_image_file(r\"photos/om.jpg\")\n",
    "om_encoding = face_recognition.face_encodings(om_image)[0]"
   ]
  },
  {
   "cell_type": "raw",
   "id": "61d19d49",
   "metadata": {},
   "source": []
  },
  {
   "cell_type": "code",
   "execution_count": 43,
   "id": "135f7287",
   "metadata": {},
   "outputs": [],
   "source": [
    "known_face_encoding = [\n",
    "    amit_shah_encoding,\n",
    "    bill_gates_encoding,\n",
    "    elon_musk_encoding,\n",
    "    narendra_modi_encoding,\n",
    "    ashutosh_encoding,\n",
    "    rishabh_encoding,\n",
    "    om_encoding\n",
    "]\n",
    "known_face_names = [\n",
    "    \"Amit shah\",\n",
    "    \"Bill gates\",\n",
    "    \"Elon musk\",\n",
    "    \"Narendra Modi\",\n",
    "    \"Ashutosh\",\n",
    "    \"Rishabh\",\n",
    "    \"Om\"\n",
    "]"
   ]
  },
  {
   "cell_type": "code",
   "execution_count": 44,
   "id": "91ff3581",
   "metadata": {},
   "outputs": [],
   "source": [
    "students = known_face_names.copy()"
   ]
  },
  {
   "cell_type": "code",
   "execution_count": 45,
   "id": "2b661024",
   "metadata": {},
   "outputs": [],
   "source": [
    "face_locations =[]\n",
    "face_encodings = []\n",
    "face_names = []\n",
    "s = True"
   ]
  },
  {
   "cell_type": "code",
   "execution_count": 46,
   "id": "ba521582",
   "metadata": {},
   "outputs": [],
   "source": [
    "now = datetime.now()\n",
    "current_date = now.strftime(\"%Y-%m-%d\")"
   ]
  },
  {
   "cell_type": "code",
   "execution_count": 47,
   "id": "6e77c6e0",
   "metadata": {},
   "outputs": [],
   "source": [
    "f = open(current_date+'.csv','w+',newline = '')\n",
    "lnwriter = csv.writer(f)"
   ]
  },
  {
   "cell_type": "code",
   "execution_count": 48,
   "id": "02a5cafb",
   "metadata": {},
   "outputs": [],
   "source": [
    "while True:\n",
    "    _,frame = video_capture.read()\n",
    "    small_frame = cv2.resize(frame,(0,0),fx=0.25,fy=0.25)\n",
    "    rgb_small_frame = small_frame[:,:,::-1]\n",
    "    if s:\n",
    "        face_locations = face_recognition.face_locations(rgb_small_frame)\n",
    "        face_encodings = face_recognition.face_encodings(rgb_small_frame,face_locations)\n",
    "        face_names = []\n",
    "        for face_encoding in face_encodings:\n",
    "            matches = face_recognition.compare_faces(known_face_encoding,face_encoding)\n",
    "            name = \"\"\n",
    "            face_distance = face_recognition.face_distance(known_face_encoding,face_encoding)\n",
    "            best_match_index = np.argmin(face_distance)\n",
    "            if matches[best_match_index]:\n",
    "                name = known_face_names[best_match_index]\n",
    "            face_names.append(name)\n",
    "            if name in known_face_names:\n",
    "                if name in students:\n",
    "                    students.remove(name)\n",
    "                    print(students)\n",
    "                    current_time = now.strftime(\"%H-%M-%S\")\n",
    "                    lnwriter.writerow([name,current_time])\n",
    "    cv2.imshow(\"Attendence_System\",frame)\n",
    "    if cv2.waitKey(1) & 0xFF == ord('q'):\n",
    "        break\n",
    "video_capture.release()\n",
    "cv2.destroyAllWindows()\n",
    "f.close()"
   ]
  },
  {
   "cell_type": "code",
   "execution_count": null,
   "id": "60f148d4",
   "metadata": {},
   "outputs": [],
   "source": []
  },
  {
   "cell_type": "code",
   "execution_count": null,
   "id": "590d2038",
   "metadata": {},
   "outputs": [],
   "source": []
  }
 ],
 "metadata": {
  "kernelspec": {
   "display_name": "Python 3",
   "language": "python",
   "name": "python3"
  },
  "language_info": {
   "codemirror_mode": {
    "name": "ipython",
    "version": 3
   },
   "file_extension": ".py",
   "mimetype": "text/x-python",
   "name": "python",
   "nbconvert_exporter": "python",
   "pygments_lexer": "ipython3",
   "version": "3.6.13"
  }
 },
 "nbformat": 4,
 "nbformat_minor": 5
}
